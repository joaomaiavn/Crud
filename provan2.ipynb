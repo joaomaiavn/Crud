{
  "nbformat": 4,
  "nbformat_minor": 0,
  "metadata": {
    "colab": {
      "provenance": [],
      "authorship_tag": "ABX9TyMJXGjzTAMv2efdqyD+na5P",
      "include_colab_link": true
    },
    "kernelspec": {
      "name": "python3",
      "display_name": "Python 3"
    },
    "language_info": {
      "name": "python"
    }
  },
  "cells": [
    {
      "cell_type": "markdown",
      "metadata": {
        "id": "view-in-github",
        "colab_type": "text"
      },
      "source": [
        "<a href=\"https://colab.research.google.com/github/joaomaiavn/Crud/blob/main/provan2.ipynb\" target=\"_parent\"><img src=\"https://colab.research.google.com/assets/colab-badge.svg\" alt=\"Open In Colab\"/></a>"
      ]
    },
    {
      "cell_type": "code",
      "execution_count": null,
      "metadata": {
        "colab": {
          "base_uri": "https://localhost:8080/"
        },
        "id": "zZiMAnrX7rhd",
        "outputId": "d6769565-43d4-4593-b409-fd1618f4eaa9"
      },
      "outputs": [
        {
          "output_type": "stream",
          "name": "stdout",
          "text": [
            "\n",
            "Menu:\n",
            "1. Adicionar ou Atualizar Produto\n",
            "2. Pesquisar Produto\n",
            "3. Alterar Estoque\n",
            "4. Remover Produto\n",
            "5. Exibir Estoque\n",
            "6. Sair\n",
            "Escolha uma opção: 6\n",
            "Saindo do programa.\n"
          ]
        }
      ],
      "source": [
        "estoque = []\n",
        "\n",
        "while True:\n",
        "    print(\"\\nMenu:\")\n",
        "    print(\"1. Adicionar ou Atualizar Produto\")\n",
        "    print(\"2. Pesquisar Produto\")\n",
        "    print(\"3. Alterar Estoque\")\n",
        "    print(\"4. Remover Produto\")\n",
        "    print(\"5. Exibir Estoque\")\n",
        "    print(\"6. Sair\")\n",
        "\n",
        "    escolha = input(\"Escolha uma opção: \")\n",
        "    #Funcionalidade \"Adicionar ou Atualizar Produto\"\n",
        "    if escolha == '1':\n",
        "        nome = input(\"Digite o nome do produto: \")\n",
        "        quantidade = int(input(\"Digite a quantidade: \"))\n",
        "        preco = float(input(\"Digite o preço: \"))\n",
        "\n",
        "        for produto in estoque:\n",
        "            if produto[0] == nome:\n",
        "                produto[1] == quantidade\n",
        "                produto[2] == preco\n",
        "                break\n",
        "        else:\n",
        "            estoque.append([nome, quantidade, preco])\n",
        "    #Funcionalidade \"Pesquisar Produto\"\n",
        "    elif escolha == \"2\":\n",
        "            nome = input(\"Digite o nome do produto para pesquisar:\")\n",
        "            for produto in estoque:\n",
        "                if produto[0] == nome:\n",
        "                    print(f\"produto: {produto[0]}, Quantidade: {produto[1]}, Preço: {produto[2]}\")\n",
        "                    break\n",
        "            else:\n",
        "                print(\"Produto não encontrado.\")\n",
        "    #Funcionalidade “Alterar Produto\"\n",
        "    elif escolha == '3':\n",
        "        nome = input(\"Digite o nome do produto para alterar: \")\n",
        "        for produto in estoque:\n",
        "            if produto[0] == nome:\n",
        "                quantidade = imput (f\"Digite a nova quantidade (atual: {produto[1]}): \")\n",
        "                preco = input (f\"Digite o novo preço (atual: {produto[2]}): \")\n",
        "                if quantidade:\n",
        "                    produto [1] = int (quantidade)\n",
        "                if preco:\n",
        "                    produto [2] = float (preco)\n",
        "                break\n",
        "        else:\n",
        "            print (\"Produto nâo encontado.\")\n",
        "    #Funcionalidade “Remover Produto\"\n",
        "    elif escolha == '4':\n",
        "        nome = input(\"Digite o nome do produto para remover: \")\n",
        "        for produto in estoque:\n",
        "            if produto [0] == nome:\n",
        "                estoque.remove(produto)\n",
        "                print(\"Produto removido\")\n",
        "                break\n",
        "        else :\n",
        "            print(\"Produto näo encotrado\")\n",
        "    #Funcionalidade “Exibir Estoque“\n",
        "    elif escolha == '5':\n",
        "        if not estoque:\n",
        "            print(\"Estoque vazio.\")\n",
        "        else:\n",
        "                for produto in estoque:\n",
        "                    print(f\"Produto: {produto[0]}, Quantidade: {produto[1]}, Preço: {produto[2]}\")\n",
        "    if escolha == \"6\":\n",
        "      print(\"Saindo do programa.\")\n",
        "      break\n",
        "    else:\n",
        "      print(\"Opção inválida. Por favor, escolha uma opção válida.\")\n",
        "\n"
      ]
    }
  ]
}