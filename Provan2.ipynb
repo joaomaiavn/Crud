{
  "nbformat": 4,
  "nbformat_minor": 0,
  "metadata": {
    "colab": {
      "provenance": [],
      "authorship_tag": "ABX9TyPZ5HrQ7iE8D0m1OpG+z5Ns",
      "include_colab_link": true
    },
    "kernelspec": {
      "name": "python3",
      "display_name": "Python 3"
    },
    "language_info": {
      "name": "python"
    }
  },
  "cells": [
    {
      "cell_type": "markdown",
      "metadata": {
        "id": "view-in-github",
        "colab_type": "text"
      },
      "source": [
        "<a href=\"https://colab.research.google.com/github/joaomaiavn/Crud/blob/main/Provan2.ipynb\" target=\"_parent\"><img src=\"https://colab.research.google.com/assets/colab-badge.svg\" alt=\"Open In Colab\"/></a>"
      ]
    },
    {
      "cell_type": "code",
      "execution_count": null,
      "metadata": {
        "colab": {
          "base_uri": "https://localhost:8080/"
        },
        "id": "NrAxGlgFoUfg",
        "outputId": "80cbf929-7feb-477c-a79e-a54d73e5bed7"
      },
      "outputs": [
        {
          "name": "stdout",
          "output_type": "stream",
          "text": [
            "\n",
            "Menu:\n",
            "1. Adicionar Voo\n",
            "2. Exibir Voos\n",
            "3. Remover Voo\n",
            "4. Sair\n",
            "Escolha uma opção: 1\n",
            "Digite o número do voo: 5\n",
            "Tipo(chegada / saída)saída \n",
            "Digite o destino: floripa\n",
            "Voo adicionado com sucesso!\n",
            "\n",
            "Menu:\n",
            "1. Adicionar Voo\n",
            "2. Exibir Voos\n",
            "3. Remover Voo\n",
            "4. Sair\n",
            "Escolha uma opção: 3\n",
            "Digite o número do voo a ser removido: 4\n",
            "Voo não encontrado.\n",
            "\n",
            "Menu:\n",
            "1. Adicionar Voo\n",
            "2. Exibir Voos\n",
            "3. Remover Voo\n",
            "4. Sair\n",
            "Escolha uma opção: 3\n"
          ]
        }
      ],
      "source": [
        "voos_chegada = []\n",
        "voos_saida = []\n",
        "\n",
        "while True:\n",
        "    print(\"\\nMenu:\")\n",
        "    print(\"1. Adicionar Voo\")\n",
        "    print(\"2. Exibir Voos\")\n",
        "    print(\"3. Remover Voo\")\n",
        "    print(\"4. Sair\")\n",
        "\n",
        "    escolha = input(\"Escolha uma opção: \")\n",
        "    #Funcionalidade \"Adicionar ou Atualizar Produto\"\n",
        "    if escolha == '1':\n",
        "        numero_do_voo = input(\"Digite o número do voo: \")\n",
        "        tipo = input(\"Tipo(chegada / saída)\")\n",
        "        destino = input(\"Digite o destino: \")\n",
        "\n",
        "        if tipo == \"chegada\":\n",
        "            voos_chegada.append({'número': numero_do_voo, 'destino': destino})\n",
        "            print(\"Voo adicionado com sucesso!\")\n",
        "        else:\n",
        "            voos_saida.append({'número': numero_do_voo, 'destino': destino})\n",
        "            print(\"Voo adicionado com sucesso!\")\n",
        "\n",
        "\n",
        "    else:\n",
        "        if escolha == '2':\n",
        "            print(\"\\nVoos de Chegada:\")\n",
        "            for voo in voos_chegada:\n",
        "                print(f\"Número: {voo['número']}, Destino: {voo['destino']}\")\n",
        "\n",
        "            print(\"\\nVoos de Saída:\")\n",
        "            for voo in voos_saida:\n",
        "                print(f\"Número: {voo['número']}, Destino: {voo['destino']}\")\n",
        "\n",
        "    #Funcionalidade “Remover Produto\"\n",
        "        else:\n",
        "             if escolha == '3':\n",
        "                numero_do_voo = input(\"Digite o número do voo a ser removido: \")\n",
        "                removido = False\n",
        "                for voo in voos_chegada:\n",
        "                    if voo['número'] == numero_do_voo:\n",
        "                        voos_chegada.remove(voo)\n",
        "                        removido = True\n",
        "                        print(\"Voo removido com sucesso!\")\n",
        "                        break\n",
        "\n",
        "                if not removido:\n",
        "                    for voo in voos_saida:\n",
        "                        if voo['número'] == numero_do_voo:\n",
        "                            voos_saida.remove(voo)\n",
        "                            print(f\"Voo removido com sucesso!\")\n",
        "                            removido = True\n",
        "                            break\n",
        "\n",
        "                if not removido:\n",
        "                    print(\"Voo não encontrado.\")\n",
        "             else:\n",
        "                if escolha == \"4\":\n",
        "                    print (\"Saída com sucesso.Volte sempre!\")\n",
        "                    break\n",
        "                else:\n",
        "                    print (\"Digite uma opção válida\")\n",
        "\n",
        "\n",
        "\n",
        "\n",
        ""
      ]
    }
  ]
}